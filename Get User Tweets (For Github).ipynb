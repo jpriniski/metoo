{
 "cells": [
  {
   "cell_type": "markdown",
   "metadata": {
    "collapsed": true
   },
   "source": [
    "# Get User's Tweets\n",
    "\n",
    "This script will use the python package Twython to connect to the Twitter API and collect data using the call API `GET statuses/user_timeline`. "
   ]
  },
  {
   "cell_type": "code",
   "execution_count": 70,
   "metadata": {
    "collapsed": true
   },
   "outputs": [],
   "source": [
    "from twython import Twython\n",
    "import pandas as pd\n",
    "import re\n",
    "import numpy as np"
   ]
  },
  {
   "cell_type": "markdown",
   "metadata": {},
   "source": [
    "We connect to the Twitter API with our access tokens. Get yours at api.Twitter.com."
   ]
  },
  {
   "cell_type": "code",
   "execution_count": 71,
   "metadata": {
    "collapsed": true
   },
   "outputs": [],
   "source": [
    "#Input access tokens \n",
    "API_KEY = \"\"\n",
    "API_SECRET = \"\"\n",
    "ACCESS_TOKEN = \"\"\n",
    "ACCESS_SECRET = \"\"\n",
    "\n",
    "connection = Twython(API_KEY, API_SECRET, ACCESS_TOKEN, ACCESS_SECRET)"
   ]
  },
  {
   "cell_type": "markdown",
   "metadata": {
    "collapsed": true
   },
   "source": [
    "The following functions will execute the data collection and processing steps automatically once called: \n",
    "\n",
    "- The string matching that checks if a tweet is about President Trump is carried out in the function `get_trump_tweets`. \n",
    "- We collect the 200 most recent tweets of a user with the function `get_timeline`.\n",
    "- A dataframe with all of the relvant information is created for us with the function `make_DF`."
   ]
  },
  {
   "cell_type": "code",
   "execution_count": 1,
   "metadata": {
    "collapsed": true
   },
   "outputs": [],
   "source": [
    "def get_trump_tweets(timeline):\n",
    "    trump_tags = ['@realdonaldtrump', 'trump', 'donald', '#maga', 'maga', 'potus', '@potus','#donaldtrump','#trump','#makeamericagreatagain',\n",
    "                 'president','comander in chief', 'comander', 'prez', 'pres.', 'pres', 'donald j trump', 'donald j. trump']\n",
    "    trump_tweets = []\n",
    "    \n",
    "    for tweet in timeline:\n",
    "        text = tweet['text'].lower().split()\n",
    "        if any(word in trump_tags for word in text):\n",
    "            trump_tweets.append(tweet['text'])\n",
    "    return trump_tweets\n",
    "    \n",
    "def get_timeline(user):\n",
    "    #make sure to change screen name to userID when we start collecting IDs\n",
    "    try:\n",
    "        return connection.get_user_timeline(screen_name=user, count = 200)\n",
    "    except Exception:\n",
    "        pass\n",
    "        \n",
    "def make_DF(users):\n",
    "    df = []\n",
    "    \n",
    "    for user in users:\n",
    "        timeline = get_timeline(user)\n",
    "        if not timeline is None:\n",
    "            trump_tweets = get_trump_tweets(timeline)   \n",
    "            if len(trump_tweets) > 0:\n",
    "                df.append([user,' '.join(trump_tweets)])\n",
    "    \n",
    "    return pd.DataFrame(df,columns = ['UserID', 'trump_tweets'])"
   ]
  },
  {
   "cell_type": "markdown",
   "metadata": {},
   "source": [
    "We need to have a list of users whose past tweets we wish to collect.  We load in our users from a .csv file which is single column of user screen names. "
   ]
  },
  {
   "cell_type": "code",
   "execution_count": 84,
   "metadata": {
    "collapsed": true
   },
   "outputs": [],
   "source": [
    "user_list = set(pd.read_csv('users.csv',names=['id'])['id'])\n"
   ]
  },
  {
   "cell_type": "markdown",
   "metadata": {},
   "source": [
    "We then make our dataframe formated as follows:\n",
    "- Column 1: "
   ]
  },
  {
   "cell_type": "code",
   "execution_count": 85,
   "metadata": {
    "collapsed": true
   },
   "outputs": [],
   "source": [
    "DF = make_DF(user_list)"
   ]
  },
  {
   "cell_type": "code",
   "execution_count": null,
   "metadata": {
    "collapsed": true
   },
   "outputs": [],
   "source": []
  }
 ],
 "metadata": {
  "kernelspec": {
   "display_name": "Python 3",
   "language": "python",
   "name": "python3"
  },
  "language_info": {
   "codemirror_mode": {
    "name": "ipython",
    "version": 3
   },
   "file_extension": ".py",
   "mimetype": "text/x-python",
   "name": "python",
   "nbconvert_exporter": "python",
   "pygments_lexer": "ipython3",
   "version": "3.5.2"
  }
 },
 "nbformat": 4,
 "nbformat_minor": 2
}
