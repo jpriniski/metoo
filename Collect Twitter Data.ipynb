{
 "cells": [
  {
   "cell_type": "markdown",
   "metadata": {},
   "source": [
    "# Collect Twitter Data\n",
    "This script uses Tweepy to stream data via the Twitter API s.  Documenation is found [here](http://docs.tweepy.org/en/v3.5.0/)."
   ]
  },
  {
   "cell_type": "code",
   "execution_count": 2,
   "metadata": {
    "collapsed": true
   },
   "outputs": [],
   "source": [
    "import tweepy\n",
    "from tweepy.streaming import StreamListener\n",
    "from tweepy import OAuthHandler\n",
    "from tweepy import Stream"
   ]
  },
  {
   "cell_type": "markdown",
   "metadata": {},
   "source": [
    "We connect to the Twitter API with our access tokens. Get yours at api.Twitter.com."
   ]
  },
  {
   "cell_type": "code",
   "execution_count": 3,
   "metadata": {},
   "outputs": [],
   "source": [
    "ck = \"\"\n",
    "cks = \"\"\n",
    "at = \"\"\n",
    "ats = \"\"\n",
    "\n",
    "\n",
    "auth = tweepy.OAuthHandler(ck, cks)\n",
    "auth.set_access_token(at, ats)\n",
    "\n",
    "api= tweepy.API(auth)"
   ]
  },
  {
   "cell_type": "markdown",
   "metadata": {},
   "source": [
    "We call the stream functions and start streaming tweets containing _#metoo_ in lines 47-50:\n",
    "   ```python\n",
    "myStreamListener = MyStreamListener()\n",
    "myStream = tweepy.Stream(auth = api.auth, listener=myStreamListener)\n",
    "myStream.filter(track=['#metoo'],languages=['en'],async=True)\n",
    "   ```\n",
    "   \n",
    "We write the tweets to a csv file (this is done in line 11 of the block). "
   ]
  },
  {
   "cell_type": "code",
   "execution_count": 3,
   "metadata": {
    "collapsed": true
   },
   "outputs": [],
   "source": [
    "import csv\n",
    "import re\n",
    "import datetime\n",
    "import pandas as pd\n",
    "\n",
    "now =  datetime.datetime.now().strftime(\"%Y-%m-%d %H:%M:%S\")[0:10]\n",
    "\n",
    "\n",
    "class MyStreamListener(tweepy.StreamListener):\n",
    "    def on_status(self, status):\n",
    "        with open('#metoo_'+ now +'.csv','a', encoding='utf-8') as f:\n",
    "            writer = csv.writer(f) \n",
    "           \n",
    "            row = [status.created_at,\n",
    "                   status.id_str,\n",
    "                   status.reply_count,\n",
    "                   status.retweet_count,\n",
    "                   status.favorite_count,\n",
    "                   status.lang,\n",
    "                   status.text.replace(',',' '),\n",
    "                   status.source,\n",
    "                   status.in_reply_to_user_id_str,\n",
    "                   status.in_reply_to_status_id_str,\n",
    "                   status.user.id_str,\n",
    "                   status.user.name,\n",
    "                   status.user.screen_name,\n",
    "                   status.user.description,\n",
    "                   status.user.followers_count,\n",
    "                   status.user.friends_count,\n",
    "                   status.user.favourites_count,\n",
    "                   status.user.created_at,\n",
    "                   status.user.utc_offset,\n",
    "                   status.user.time_zone,\n",
    "                   status.user.geo_enabled,\n",
    "                   status.user.lang,\n",
    "                   status.coordinates,\n",
    "                  ]\n",
    "            writer.writerow(row)\n",
    "             \n",
    "            #writer.writerow([status.user.id_str, re.sub(r'\\W+', '',\n",
    "            #status.user.description),re.sub(r'\\W+', '', status.user.text)])\n",
    "    def on_error(self, status_code):\n",
    "        if status_code == 420:\n",
    "            #returning False in on_data disconnects the stream\n",
    "            return False\n",
    "            \n",
    "myStreamListener = MyStreamListener()\n",
    "myStream = tweepy.Stream(auth = api.auth, listener=myStreamListener)\n",
    "\n",
    "myStream.filter(track=['#metoo'],languages=['en'],async=True)\n",
    "#myStream.sample(languages=['en'], async=True)"
   ]
  },
  {
   "cell_type": "code",
   "execution_count": 4,
   "metadata": {
    "collapsed": true
   },
   "outputs": [],
   "source": [
    "myStream.disconnect()"
   ]
  }
 ],
 "metadata": {
  "kernelspec": {
   "display_name": "Python 3",
   "language": "python",
   "name": "python3"
  },
  "language_info": {
   "codemirror_mode": {
    "name": "ipython",
    "version": 3
   },
   "file_extension": ".py",
   "mimetype": "text/x-python",
   "name": "python",
   "nbconvert_exporter": "python",
   "pygments_lexer": "ipython3",
   "version": "3.5.2"
  }
 },
 "nbformat": 4,
 "nbformat_minor": 2
}
